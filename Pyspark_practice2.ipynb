{
 "cells": [
  {
   "cell_type": "code",
   "execution_count": 2,
   "id": "8e23e88d",
   "metadata": {},
   "outputs": [],
   "source": [
    "logFile = sc.textFile('hdfs://nick/user/nick/practice/test2.txt')"
   ]
  },
  {
   "cell_type": "code",
   "execution_count": 3,
   "id": "673bf3a6",
   "metadata": {
    "scrolled": false
   },
   "outputs": [
    {
     "data": {
      "text/plain": [
       "['12 宋江 25 男 chinese 50',\n",
       " '12 宋江 25 男 math 60',\n",
       " '12 宋江 25 男 english 70',\n",
       " '12 吴用 20 男 chinese 50',\n",
       " '12 吴用 20 男 math 50',\n",
       " '12 吴用 20 男 english 50',\n",
       " '12 杨春 19 女 chinese 70',\n",
       " '12 杨春 19 女 math 70',\n",
       " '12 杨春 19 女 english 70',\n",
       " '13 李逵 25 男 chinese 60',\n",
       " '13 李逵 25 男 math 60',\n",
       " '13 李逵 25 男 english 70',\n",
       " '13 林冲 20 男 chinese 50',\n",
       " '13 林冲 20 男 math 60',\n",
       " '13 林冲 20 男 english 50',\n",
       " '13 王英 19 女 chinese 70',\n",
       " '13 王英 19 女 math 80',\n",
       " '13 王英 19 女 english 70']"
      ]
     },
     "execution_count": 3,
     "metadata": {},
     "output_type": "execute_result"
    }
   ],
   "source": [
    "logFile.take(30)"
   ]
  },
  {
   "cell_type": "code",
   "execution_count": 110,
   "id": "0e7cd56d",
   "metadata": {},
   "outputs": [
    {
     "data": {
      "text/html": [
       "\n",
       "        <div>\n",
       "            <p><b>SparkContext</b></p>\n",
       "\n",
       "            <p><a href=\"http://192.168.64.4:4040\">Spark UI</a></p>\n",
       "\n",
       "            <dl>\n",
       "              <dt>Version</dt>\n",
       "                <dd><code>v3.1.2</code></dd>\n",
       "              <dt>Master</dt>\n",
       "                <dd><code>spark://nick:7077</code></dd>\n",
       "              <dt>AppName</dt>\n",
       "                <dd><code>PySparkShell</code></dd>\n",
       "            </dl>\n",
       "        </div>\n",
       "        "
      ],
      "text/plain": [
       "<SparkContext master=spark://nick:7077 appName=PySparkShell>"
      ]
     },
     "execution_count": 110,
     "metadata": {},
     "output_type": "execute_result"
    }
   ],
   "source": [
    "sc"
   ]
  },
  {
   "cell_type": "markdown",
   "id": "33d8d2b7",
   "metadata": {},
   "source": [
    "### 1.列出20歲以下參加考試的人"
   ]
  },
  {
   "cell_type": "code",
   "execution_count": 24,
   "id": "c679fd08",
   "metadata": {},
   "outputs": [
    {
     "name": "stdout",
     "output_type": "stream",
     "text": [
      "['12', '杨春', '19', '女', 'chinese', '70']\n",
      "['12', '杨春', '19', '女', 'math', '70']\n",
      "['12', '杨春', '19', '女', 'english', '70']\n",
      "['13', '王英', '19', '女', 'chinese', '70']\n",
      "['13', '王英', '19', '女', 'math', '80']\n",
      "['13', '王英', '19', '女', 'english', '70']\n"
     ]
    }
   ],
   "source": [
    "age_20_below = logFile.map(lambda x: x.split(' ')) \\\n",
    "                    .filter(lambda age:int(age[2]) <20) \\\n",
    "                    .collect()\n",
    "for i in age_20_below:\n",
    "    print(i)"
   ]
  },
  {
   "cell_type": "markdown",
   "id": "1c4864fb",
   "metadata": {},
   "source": [
    "### 2.列出為20歲參加考試的人"
   ]
  },
  {
   "cell_type": "code",
   "execution_count": 26,
   "id": "81b9d7a3",
   "metadata": {},
   "outputs": [
    {
     "name": "stdout",
     "output_type": "stream",
     "text": [
      "['12', '吴用', '20', '男', 'chinese', '50']\n",
      "['12', '吴用', '20', '男', 'math', '50']\n",
      "['12', '吴用', '20', '男', 'english', '50']\n",
      "['13', '林冲', '20', '男', 'chinese', '50']\n",
      "['13', '林冲', '20', '男', 'math', '60']\n",
      "['13', '林冲', '20', '男', 'english', '50']\n"
     ]
    }
   ],
   "source": [
    "age_20 = logFile.map(lambda x :x.split(' ')) \\\n",
    "                .filter(lambda age: int(age[2]) == 20 ) \\\n",
    "                .collect()\n",
    "for i in age_20:\n",
    "    print(i)"
   ]
  },
  {
   "cell_type": "markdown",
   "id": "e51a2160",
   "metadata": {},
   "source": [
    "### 3.列出20歲以上參加考試的人"
   ]
  },
  {
   "cell_type": "code",
   "execution_count": 28,
   "id": "e835b291",
   "metadata": {},
   "outputs": [
    {
     "name": "stdout",
     "output_type": "stream",
     "text": [
      "['12', '宋江', '25', '男', 'chinese', '50']\n",
      "['12', '宋江', '25', '男', 'math', '60']\n",
      "['12', '宋江', '25', '男', 'english', '70']\n",
      "['13', '李逵', '25', '男', 'chinese', '60']\n",
      "['13', '李逵', '25', '男', 'math', '60']\n",
      "['13', '李逵', '25', '男', 'english', '70']\n"
     ]
    }
   ],
   "source": [
    "age_20_up = logFile.map(lambda x:x.split(' ')) \\\n",
    "                    .filter(lambda age: int(age[2]) > 20) \\\n",
    "                    .collect()\n",
    "for i in age_20_up:\n",
    "    print(i)"
   ]
  },
  {
   "cell_type": "markdown",
   "id": "79ca9bd7",
   "metadata": {},
   "source": [
    "### 4.列出全部男性資料"
   ]
  },
  {
   "cell_type": "code",
   "execution_count": 29,
   "id": "e071b6fa",
   "metadata": {},
   "outputs": [
    {
     "name": "stdout",
     "output_type": "stream",
     "text": [
      "['12', '宋江', '25', '男', 'chinese', '50']\n",
      "['12', '宋江', '25', '男', 'math', '60']\n",
      "['12', '宋江', '25', '男', 'english', '70']\n",
      "['12', '吴用', '20', '男', 'chinese', '50']\n",
      "['12', '吴用', '20', '男', 'math', '50']\n",
      "['12', '吴用', '20', '男', 'english', '50']\n",
      "['13', '李逵', '25', '男', 'chinese', '60']\n",
      "['13', '李逵', '25', '男', 'math', '60']\n",
      "['13', '李逵', '25', '男', 'english', '70']\n",
      "['13', '林冲', '20', '男', 'chinese', '50']\n",
      "['13', '林冲', '20', '男', 'math', '60']\n",
      "['13', '林冲', '20', '男', 'english', '50']\n"
     ]
    }
   ],
   "source": [
    "all_male = logFile.map(lambda x: x.split(' ')) \\\n",
    "                .filter(lambda sex: sex[3] == '男') \\\n",
    "                .collect()\n",
    "for i in all_male:\n",
    "    print(i)"
   ]
  },
  {
   "cell_type": "markdown",
   "id": "5eff1d29",
   "metadata": {},
   "source": [
    "### 5.列出全部女性資料"
   ]
  },
  {
   "cell_type": "code",
   "execution_count": 31,
   "id": "fb06c65a",
   "metadata": {},
   "outputs": [
    {
     "name": "stdout",
     "output_type": "stream",
     "text": [
      "['12', '杨春', '19', '女', 'chinese', '70']\n",
      "['12', '杨春', '19', '女', 'math', '70']\n",
      "['12', '杨春', '19', '女', 'english', '70']\n",
      "['13', '王英', '19', '女', 'chinese', '70']\n",
      "['13', '王英', '19', '女', 'math', '80']\n",
      "['13', '王英', '19', '女', 'english', '70']\n"
     ]
    }
   ],
   "source": [
    "all_female = logFile.map(lambda x:x.split(' ')) \\\n",
    "                    .filter(lambda sex: sex[3] == '女') \\\n",
    "                    .collect()\n",
    "for i in all_female:\n",
    "    print(i)"
   ]
  },
  {
   "cell_type": "markdown",
   "id": "8793acb0",
   "metadata": {},
   "source": [
    "### 6.12班參加考試的人"
   ]
  },
  {
   "cell_type": "code",
   "execution_count": 16,
   "id": "7a121b36",
   "metadata": {},
   "outputs": [
    {
     "name": "stdout",
     "output_type": "stream",
     "text": [
      "12班參加考試的人有 3 人\n"
     ]
    }
   ],
   "source": [
    "count_class12 = logFile.map(lambda x: x.split(' ')) \\\n",
    "                        .filter(lambda x : x[0]== '12') \\\n",
    "                        .groupBy(lambda x: x[1]).count()\n",
    "print(\"12班參加考試的人有\", count_class12,\"人\")"
   ]
  },
  {
   "cell_type": "markdown",
   "id": "5029a316",
   "metadata": {},
   "source": [
    "### 7.13班參加考試的人"
   ]
  },
  {
   "cell_type": "code",
   "execution_count": 17,
   "id": "4dc4fec8",
   "metadata": {
    "scrolled": true
   },
   "outputs": [
    {
     "name": "stdout",
     "output_type": "stream",
     "text": [
      "13班參加考試的人有 3 人\n"
     ]
    }
   ],
   "source": [
    "count_class13 = logFile.map(lambda x:x.split(\" \")) \\\n",
    "                        .filter(lambda x:x[0]=='13') \\\n",
    "                        .groupBy(lambda x:x[1]).count()\n",
    "print(\"13班參加考試的人有\", count_class13,\"人\")"
   ]
  },
  {
   "cell_type": "markdown",
   "id": "891067f1",
   "metadata": {},
   "source": [
    "### 8.全部chinese平均分數"
   ]
  },
  {
   "cell_type": "code",
   "execution_count": 25,
   "id": "72311313",
   "metadata": {},
   "outputs": [],
   "source": [
    "avg_chinese = logFile.map(lambda x:x.split(' ')) \\\n",
    "                    .filter(lambda x:x[4] == 'chinese') \\\n",
    "                    .map(lambda x:int(x[5])).mean()\n"
   ]
  },
  {
   "cell_type": "code",
   "execution_count": 27,
   "id": "9cea72d5",
   "metadata": {},
   "outputs": [
    {
     "name": "stdout",
     "output_type": "stream",
     "text": [
      "chinese的平均分數為： 58.33 分\n"
     ]
    }
   ],
   "source": [
    "print(\"chinese的平均分數為：\",round(avg_chinese,2),\"分\")"
   ]
  },
  {
   "cell_type": "markdown",
   "id": "a404a4d9",
   "metadata": {},
   "source": [
    "### 9.全部math 平均分數"
   ]
  },
  {
   "cell_type": "code",
   "execution_count": 28,
   "id": "1d58a8ec",
   "metadata": {},
   "outputs": [],
   "source": [
    "avg_math = logFile.map(lambda x: x.split(' ')) \\\n",
    "                .filter(lambda x: x[4] == 'math') \\\n",
    "                .map(lambda x:int(x[5])).mean()"
   ]
  },
  {
   "cell_type": "code",
   "execution_count": 29,
   "id": "93a3e16f",
   "metadata": {},
   "outputs": [
    {
     "name": "stdout",
     "output_type": "stream",
     "text": [
      "math的平均分數為： 63.33 分\n"
     ]
    }
   ],
   "source": [
    "print(\"math的平均分數為：\",round(avg_math,2),\"分\")"
   ]
  },
  {
   "cell_type": "markdown",
   "id": "8a78166b",
   "metadata": {},
   "source": [
    "### 10.全部english 平均分數"
   ]
  },
  {
   "cell_type": "code",
   "execution_count": 34,
   "id": "9d166efa",
   "metadata": {},
   "outputs": [],
   "source": [
    "avg_english = logFile.map(lambda x:x.split(' ')) \\\n",
    "                    .filter(lambda x:x[4] == 'english') \\\n",
    "                    .map(lambda x:int(x[5])).mean()"
   ]
  },
  {
   "cell_type": "code",
   "execution_count": 35,
   "id": "65032b68",
   "metadata": {},
   "outputs": [
    {
     "name": "stdout",
     "output_type": "stream",
     "text": [
      "english的平均分數為： 63.33 分\n"
     ]
    }
   ],
   "source": [
    "print(\"english的平均分數為：\",round(avg_english,2),\"分\")"
   ]
  },
  {
   "cell_type": "markdown",
   "id": "7d5f44f1",
   "metadata": {},
   "source": [
    "### 11.每個人的平均分數"
   ]
  },
  {
   "cell_type": "code",
   "execution_count": 106,
   "id": "b35a6d6c",
   "metadata": {},
   "outputs": [],
   "source": [
    "person_average = logFile.map(lambda x:x.split(' ')) \\\n",
    "                        .map(lambda x:(x[1],int(x[5]))) \\\n",
    "                        .groupByKey()"
   ]
  },
  {
   "cell_type": "code",
   "execution_count": 107,
   "id": "712179b7",
   "metadata": {},
   "outputs": [
    {
     "name": "stdout",
     "output_type": "stream",
     "text": [
      "姓名 : 國文 數學 英文\n",
      "宋江 :  50  60  70 \n",
      "吴用 :  50  50  50 \n",
      "李逵 :  60  60  70 \n",
      "林冲 :  50  60  50 \n",
      "杨春 :  70  70  70 \n",
      "王英 :  70  80  70 \n"
     ]
    }
   ],
   "source": [
    "# 包含狀況\n",
    "print('姓名 : 國文 數學 英文')\n",
    "for i,j in person_average.collect():\n",
    "    print(i,end = ' : ')\n",
    "    for score in j:\n",
    "        print('{:>3d}'.format(score), end =\" \")\n",
    "    print()"
   ]
  },
  {
   "cell_type": "code",
   "execution_count": 108,
   "id": "d4a5f57d",
   "metadata": {},
   "outputs": [],
   "source": [
    "person_average = person_average.map(lambda x : (x[0], list(x[1]))) \\\n",
    "                        .map(lambda x: (x[0],sum(x[1])/len(x[1]))) \\\n",
    "                        .collect()\n",
    "# 先將後者的RDD轉List 才能做後續的處理\n",
    "# 用lambda處理List"
   ]
  },
  {
   "cell_type": "code",
   "execution_count": 109,
   "id": "0b033936",
   "metadata": {},
   "outputs": [
    {
     "name": "stdout",
     "output_type": "stream",
     "text": [
      "姓名  平均分數\n",
      "宋江   60.00\n",
      "吴用   50.00\n",
      "李逵   63.33\n",
      "林冲   53.33\n",
      "杨春   70.00\n",
      "王英   73.33\n"
     ]
    }
   ],
   "source": [
    "print('姓名 ',\"平均分數\")\n",
    "for name,score in person_average:\n",
    "    print(name,'  %.2f'%(score))"
   ]
  },
  {
   "cell_type": "code",
   "execution_count": null,
   "id": "506cd6c8",
   "metadata": {},
   "outputs": [],
   "source": []
  }
 ],
 "metadata": {
  "kernelspec": {
   "display_name": "Python 3",
   "language": "python",
   "name": "python3"
  },
  "language_info": {
   "codemirror_mode": {
    "name": "ipython",
    "version": 3
   },
   "file_extension": ".py",
   "mimetype": "text/x-python",
   "name": "python",
   "nbconvert_exporter": "python",
   "pygments_lexer": "ipython3",
   "version": "3.8.8"
  }
 },
 "nbformat": 4,
 "nbformat_minor": 5
}
