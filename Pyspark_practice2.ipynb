{
 "cells": [
  {
   "cell_type": "code",
   "execution_count": 3,
   "id": "8e23e88d",
   "metadata": {},
   "outputs": [],
   "source": [
    "logFile = sc.textFile('hdfs://nick/user/nick/practice/test2.txt')"
   ]
  },
  {
   "cell_type": "code",
   "execution_count": 30,
   "id": "673bf3a6",
   "metadata": {
    "scrolled": false
   },
   "outputs": [
    {
     "data": {
      "text/plain": [
       "['12 宋江 25 男 chinese 50',\n",
       " '12 宋江 25 男 math 60',\n",
       " '12 宋江 25 男 english 70',\n",
       " '12 吴用 20 男 chinese 50',\n",
       " '12 吴用 20 男 math 50',\n",
       " '12 吴用 20 男 english 50',\n",
       " '12 杨春 19 女 chinese 70',\n",
       " '12 杨春 19 女 math 70',\n",
       " '12 杨春 19 女 english 70',\n",
       " '13 李逵 25 男 chinese 60',\n",
       " '13 李逵 25 男 math 60',\n",
       " '13 李逵 25 男 english 70',\n",
       " '13 林冲 20 男 chinese 50',\n",
       " '13 林冲 20 男 math 60',\n",
       " '13 林冲 20 男 english 50',\n",
       " '13 王英 19 女 chinese 70',\n",
       " '13 王英 19 女 math 80',\n",
       " '13 王英 19 女 english 70']"
      ]
     },
     "execution_count": 30,
     "metadata": {},
     "output_type": "execute_result"
    }
   ],
   "source": [
    "logFile.take(30)"
   ]
  },
  {
   "cell_type": "markdown",
   "id": "33d8d2b7",
   "metadata": {},
   "source": [
    "### 1.列出20歲以下參加考試的人"
   ]
  },
  {
   "cell_type": "code",
   "execution_count": 24,
   "id": "c679fd08",
   "metadata": {},
   "outputs": [
    {
     "name": "stdout",
     "output_type": "stream",
     "text": [
      "['12', '杨春', '19', '女', 'chinese', '70']\n",
      "['12', '杨春', '19', '女', 'math', '70']\n",
      "['12', '杨春', '19', '女', 'english', '70']\n",
      "['13', '王英', '19', '女', 'chinese', '70']\n",
      "['13', '王英', '19', '女', 'math', '80']\n",
      "['13', '王英', '19', '女', 'english', '70']\n"
     ]
    }
   ],
   "source": [
    "age_20_below = logFile.map(lambda x: x.split(' ')) \\\n",
    "                    .filter(lambda age:int(age[2]) <20) \\\n",
    "                    .collect()\n",
    "for i in age_20_below:\n",
    "    print(i)"
   ]
  },
  {
   "cell_type": "markdown",
   "id": "1c4864fb",
   "metadata": {},
   "source": [
    "### 2.列出為20歲參加考試的人"
   ]
  },
  {
   "cell_type": "code",
   "execution_count": 26,
   "id": "81b9d7a3",
   "metadata": {},
   "outputs": [
    {
     "name": "stdout",
     "output_type": "stream",
     "text": [
      "['12', '吴用', '20', '男', 'chinese', '50']\n",
      "['12', '吴用', '20', '男', 'math', '50']\n",
      "['12', '吴用', '20', '男', 'english', '50']\n",
      "['13', '林冲', '20', '男', 'chinese', '50']\n",
      "['13', '林冲', '20', '男', 'math', '60']\n",
      "['13', '林冲', '20', '男', 'english', '50']\n"
     ]
    }
   ],
   "source": [
    "age_20 = logFile.map(lambda x :x.split(' ')) \\\n",
    "                .filter(lambda age: int(age[2]) == 20 ) \\\n",
    "                .collect()\n",
    "for i in age_20:\n",
    "    print(i)"
   ]
  },
  {
   "cell_type": "markdown",
   "id": "e51a2160",
   "metadata": {},
   "source": [
    "### 3.列出20歲以上參加考試的人"
   ]
  },
  {
   "cell_type": "code",
   "execution_count": 28,
   "id": "e835b291",
   "metadata": {},
   "outputs": [
    {
     "name": "stdout",
     "output_type": "stream",
     "text": [
      "['12', '宋江', '25', '男', 'chinese', '50']\n",
      "['12', '宋江', '25', '男', 'math', '60']\n",
      "['12', '宋江', '25', '男', 'english', '70']\n",
      "['13', '李逵', '25', '男', 'chinese', '60']\n",
      "['13', '李逵', '25', '男', 'math', '60']\n",
      "['13', '李逵', '25', '男', 'english', '70']\n"
     ]
    }
   ],
   "source": [
    "age_20_up = logFile.map(lambda x:x.split(' ')) \\\n",
    "                    .filter(lambda age: int(age[2]) > 20) \\\n",
    "                    .collect()\n",
    "for i in age_20_up:\n",
    "    print(i)"
   ]
  },
  {
   "cell_type": "markdown",
   "id": "79ca9bd7",
   "metadata": {},
   "source": [
    "### 4.列出全部男性資料"
   ]
  },
  {
   "cell_type": "code",
   "execution_count": 29,
   "id": "e071b6fa",
   "metadata": {},
   "outputs": [
    {
     "name": "stdout",
     "output_type": "stream",
     "text": [
      "['12', '宋江', '25', '男', 'chinese', '50']\n",
      "['12', '宋江', '25', '男', 'math', '60']\n",
      "['12', '宋江', '25', '男', 'english', '70']\n",
      "['12', '吴用', '20', '男', 'chinese', '50']\n",
      "['12', '吴用', '20', '男', 'math', '50']\n",
      "['12', '吴用', '20', '男', 'english', '50']\n",
      "['13', '李逵', '25', '男', 'chinese', '60']\n",
      "['13', '李逵', '25', '男', 'math', '60']\n",
      "['13', '李逵', '25', '男', 'english', '70']\n",
      "['13', '林冲', '20', '男', 'chinese', '50']\n",
      "['13', '林冲', '20', '男', 'math', '60']\n",
      "['13', '林冲', '20', '男', 'english', '50']\n"
     ]
    }
   ],
   "source": [
    "all_male = logFile.map(lambda x: x.split(' ')) \\\n",
    "                .filter(lambda sex: sex[3] == '男') \\\n",
    "                .collect()\n",
    "for i in all_male:\n",
    "    print(i)"
   ]
  },
  {
   "cell_type": "markdown",
   "id": "5eff1d29",
   "metadata": {},
   "source": [
    "### 5.列出全部女性資料"
   ]
  },
  {
   "cell_type": "code",
   "execution_count": 31,
   "id": "fb06c65a",
   "metadata": {},
   "outputs": [
    {
     "name": "stdout",
     "output_type": "stream",
     "text": [
      "['12', '杨春', '19', '女', 'chinese', '70']\n",
      "['12', '杨春', '19', '女', 'math', '70']\n",
      "['12', '杨春', '19', '女', 'english', '70']\n",
      "['13', '王英', '19', '女', 'chinese', '70']\n",
      "['13', '王英', '19', '女', 'math', '80']\n",
      "['13', '王英', '19', '女', 'english', '70']\n"
     ]
    }
   ],
   "source": [
    "all_female = logFile.map(lambda x:x.split(' ')) \\\n",
    "                    .filter(lambda sex: sex[3] == '女') \\\n",
    "                    .collect()\n",
    "for i in all_female:\n",
    "    print(i)"
   ]
  },
  {
   "cell_type": "markdown",
   "id": "8793acb0",
   "metadata": {},
   "source": [
    "### 6.12班參加考試的人"
   ]
  },
  {
   "cell_type": "code",
   "execution_count": null,
   "id": "7a121b36",
   "metadata": {},
   "outputs": [],
   "source": [
    "count_class12 = logFile.map(lambda x: x.split(' ')) \\ \n",
    "                    ."
   ]
  }
 ],
 "metadata": {
  "kernelspec": {
   "display_name": "Python 3",
   "language": "python",
   "name": "python3"
  },
  "language_info": {
   "codemirror_mode": {
    "name": "ipython",
    "version": 3
   },
   "file_extension": ".py",
   "mimetype": "text/x-python",
   "name": "python",
   "nbconvert_exporter": "python",
   "pygments_lexer": "ipython3",
   "version": "3.8.8"
  }
 },
 "nbformat": 4,
 "nbformat_minor": 5
}
