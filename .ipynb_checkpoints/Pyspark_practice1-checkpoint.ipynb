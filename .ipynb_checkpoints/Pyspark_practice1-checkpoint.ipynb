{
 "cells": [
  {
   "cell_type": "markdown",
   "id": "4204af23",
   "metadata": {},
   "source": [
    "### 上傳至dfs(50070) -> test.txt\n",
    "a,123,456,789,11344,2142,123<br>\n",
    "b,1234,124,1234,123,123<br>\n",
    "c,123,4123,5435,1231,5345<br>\n",
    "d,123,456,789,113,2142,143<br>\n",
    "e,123,446,789,14,2142,113<br>\n",
    "f,123,446,789,14,2142,1113,323<br>\n"
   ]
  },
  {
   "cell_type": "code",
   "execution_count": 1,
   "id": "08efc85f",
   "metadata": {},
   "outputs": [],
   "source": [
    "logFile = sc.textFile(\"hdfs://nick/user/nick/practice\")"
   ]
  },
  {
   "cell_type": "code",
   "execution_count": 13,
   "id": "ce2d33ae",
   "metadata": {},
   "outputs": [
    {
     "data": {
      "text/plain": [
       "['a,123,456,789,11344,2142,123',\n",
       " 'b,1234,124,1234,123,123',\n",
       " 'c,123,4123,5435,1231,5345',\n",
       " 'd,123,456,789,113,2142,143',\n",
       " 'e,123,446,789,14,2142,113',\n",
       " 'f,123,446,789,14,2142,1113,323']"
      ]
     },
     "execution_count": 13,
     "metadata": {},
     "output_type": "execute_result"
    }
   ],
   "source": [
    "logFile.collect()"
   ]
  },
  {
   "cell_type": "markdown",
   "id": "366a4e29",
   "metadata": {},
   "source": [
    "### map 練習\n",
    "找出測試資料所有的英文字母"
   ]
  },
  {
   "cell_type": "code",
   "execution_count": 2,
   "id": "9b7962b7",
   "metadata": {},
   "outputs": [],
   "source": [
    "alph = logFile.map(lambda x:x.split(',')[0]).collect()"
   ]
  },
  {
   "cell_type": "code",
   "execution_count": 3,
   "id": "d32be00f",
   "metadata": {
    "scrolled": false
   },
   "outputs": [
    {
     "name": "stdout",
     "output_type": "stream",
     "text": [
      "a\n",
      "b\n",
      "c\n",
      "d\n",
      "e\n",
      "f\n"
     ]
    }
   ],
   "source": [
    "for i in alph:\n",
    "    print(i)"
   ]
  },
  {
   "cell_type": "markdown",
   "id": "7cc81ab2",
   "metadata": {},
   "source": [
    "### flatmap練習\n",
    "以\",\"切割資料"
   ]
  },
  {
   "cell_type": "code",
   "execution_count": 4,
   "id": "5c2c10b6",
   "metadata": {},
   "outputs": [],
   "source": [
    "log = logFile.flatMap(lambda x:x.split(',')).collect()"
   ]
  },
  {
   "cell_type": "code",
   "execution_count": 5,
   "id": "e523ad88",
   "metadata": {
    "scrolled": true
   },
   "outputs": [
    {
     "name": "stdout",
     "output_type": "stream",
     "text": [
      "a\n",
      "123\n",
      "456\n",
      "789\n",
      "11344\n",
      "2142\n",
      "123\n",
      "b\n",
      "1234\n",
      "124\n"
     ]
    }
   ],
   "source": [
    "for i in log[:10]:\n",
    "    print(i)"
   ]
  },
  {
   "cell_type": "markdown",
   "id": "a0bd30b5",
   "metadata": {},
   "source": [
    "### filter練習\n",
    "包含123與456的資料"
   ]
  },
  {
   "cell_type": "code",
   "execution_count": 6,
   "id": "601a5879",
   "metadata": {},
   "outputs": [],
   "source": [
    "spec_num = logFile.flatMap(lambda x:x.split(','))\\\n",
    "                    .filter(lambda num: \"123\" in num or \"456\" in num)\\\n",
    "                    .collect()"
   ]
  },
  {
   "cell_type": "code",
   "execution_count": 7,
   "id": "41cdccf2",
   "metadata": {
    "scrolled": false
   },
   "outputs": [
    {
     "name": "stdout",
     "output_type": "stream",
     "text": [
      "123\n",
      "456\n",
      "123\n",
      "1234\n",
      "1234\n",
      "123\n",
      "123\n",
      "123\n",
      "4123\n",
      "1231\n"
     ]
    }
   ],
   "source": [
    "for i in spec_num[:10]:\n",
    "    print(i)"
   ]
  },
  {
   "cell_type": "markdown",
   "id": "47ec8563",
   "metadata": {},
   "source": [
    "### mapToPair 練習\n",
    "換成(str,1)"
   ]
  },
  {
   "cell_type": "code",
   "execution_count": 8,
   "id": "e2716f2e",
   "metadata": {},
   "outputs": [],
   "source": [
    "log= logFile.flatMap(lambda x:x.split(','))"
   ]
  },
  {
   "cell_type": "code",
   "execution_count": 9,
   "id": "b5c74100",
   "metadata": {},
   "outputs": [],
   "source": [
    "log_count = log.map(lambda x:(x,1)).collect()"
   ]
  },
  {
   "cell_type": "code",
   "execution_count": 10,
   "id": "c9a6d4e5",
   "metadata": {
    "scrolled": true
   },
   "outputs": [
    {
     "name": "stdout",
     "output_type": "stream",
     "text": [
      "('a', 1)\n",
      "('123', 1)\n",
      "('456', 1)\n",
      "('789', 1)\n",
      "('11344', 1)\n",
      "('2142', 1)\n",
      "('123', 1)\n",
      "('b', 1)\n",
      "('1234', 1)\n",
      "('124', 1)\n"
     ]
    }
   ],
   "source": [
    "for i in log_count[:10]:\n",
    "    print(i)"
   ]
  },
  {
   "cell_type": "markdown",
   "id": "9b38e483",
   "metadata": {},
   "source": [
    "### flatMapToPair 練習\n",
    "轉換成(字母,所有後面數字的sum)<br>\n",
    "結果如下：<br>\n",
    "(a,14977)<br>\n",
    "(b,2838)<br>\n",
    "(c,16257)<br>\n",
    "(d,3766)<br>\n",
    "(e,3627)<br>\n",
    "(f,4950)<br>\n",
    "\n",
    "…"
   ]
  },
  {
   "cell_type": "code",
   "execution_count": 18,
   "id": "6181810e",
   "metadata": {},
   "outputs": [],
   "source": [
    "log = logFile.map(lambda x:x.split(','))"
   ]
  },
  {
   "cell_type": "code",
   "execution_count": 17,
   "id": "e9f3d4f8",
   "metadata": {},
   "outputs": [
    {
     "data": {
      "text/plain": [
       "[['a', '123', '456', '789', '11344', '2142', '123'],\n",
       " ['b', '1234', '124', '1234', '123', '123'],\n",
       " ['c', '123', '4123', '5435', '1231', '5345'],\n",
       " ['d', '123', '456', '789', '113', '2142', '143'],\n",
       " ['e', '123', '446', '789', '14', '2142', '113'],\n",
       " ['f', '123', '446', '789', '14', '2142', '1113', '323']]"
      ]
     },
     "execution_count": 17,
     "metadata": {},
     "output_type": "execute_result"
    }
   ],
   "source": [
    "log"
   ]
  },
  {
   "cell_type": "code",
   "execution_count": 24,
   "id": "7328dd7d",
   "metadata": {},
   "outputs": [],
   "source": [
    "alph_count = log.map(lambda x:(x[0],sum(map(int,x[1:])))) \\ \n",
    "                    .collect()"
   ]
  },
  {
   "cell_type": "code",
   "execution_count": 25,
   "id": "070b3204",
   "metadata": {},
   "outputs": [
    {
     "data": {
      "text/plain": [
       "[('a', 14977),\n",
       " ('b', 2838),\n",
       " ('c', 16257),\n",
       " ('d', 3766),\n",
       " ('e', 3627),\n",
       " ('f', 4950)]"
      ]
     },
     "execution_count": 25,
     "metadata": {},
     "output_type": "execute_result"
    }
   ],
   "source": [
    "alph_count"
   ]
  },
  {
   "cell_type": "code",
   "execution_count": 43,
   "id": "2937fde9",
   "metadata": {},
   "outputs": [],
   "source": [
    "# 拆解map中map\n",
    "rdd_2d = sc.parallelize([['123','456','789']]) # 2d array\n",
    "rdd_1d = sc.parallelize( ['123','456','789'] ) # 1d array"
   ]
  },
  {
   "cell_type": "code",
   "execution_count": 44,
   "id": "13204a34",
   "metadata": {},
   "outputs": [],
   "source": [
    "sum_rdd_2d = rdd_2d.map(lambda x:sum(map(int,x))).collect()\n",
    "sum_rdd_1d = rdd_1d.map(lambda x:sum(map(int,x))).collect()"
   ]
  },
  {
   "cell_type": "code",
   "execution_count": 45,
   "id": "4b9a357f",
   "metadata": {},
   "outputs": [
    {
     "name": "stdout",
     "output_type": "stream",
     "text": [
      "sum_rdd_2d: [1368]\n",
      "sum_rdd_1d: [6, 15, 24]\n"
     ]
    }
   ],
   "source": [
    "print('sum_rdd_2d:',sum_rdd_2d)\n",
    "print('sum_rdd_1d:',sum_rdd_1d)"
   ]
  },
  {
   "cell_type": "markdown",
   "id": "63ad7fa4",
   "metadata": {},
   "source": [
    "### Reduce 練習\n",
    "所有英文字母用reduce append成一個字串\n",
    "結果如下：\n",
    "abcdef"
   ]
  },
  {
   "cell_type": "code",
   "execution_count": 13,
   "id": "d38f3f1f",
   "metadata": {},
   "outputs": [],
   "source": [
    "alph_str = logFile.map(lambda x:x[0])\\  # 挑出首字母 ['a','b','c',...]\n",
    "                .reduce(lambda x,y:x+y) # str合併"
   ]
  },
  {
   "cell_type": "code",
   "execution_count": 14,
   "id": "7db9de51",
   "metadata": {},
   "outputs": [
    {
     "data": {
      "text/plain": [
       "'abcdef'"
      ]
     },
     "execution_count": 14,
     "metadata": {},
     "output_type": "execute_result"
    }
   ],
   "source": [
    "alph_str"
   ]
  },
  {
   "cell_type": "markdown",
   "id": "f22cad5b",
   "metadata": {},
   "source": [
    "### ReduceByKey 練習\n",
    "以\",\"切割的 wordcount<br>\n",
    "結果如下：<br>\n",
    "(d,1)<br>\n",
    "(1113,1)<br>\n",
    "(1231,1)<br>\n",
    "(e,1)<br>\n",
    "(14,2)<br>\n",
    "(113,2)<br>"
   ]
  },
  {
   "cell_type": "code",
   "execution_count": 8,
   "id": "694b6c79",
   "metadata": {},
   "outputs": [],
   "source": [
    "log_counts = logFile.flatMap(lambda x:x.split(',')) \\\n",
    "                    .map(lambda x:(x,1)) \\\n",
    "                    .reduceByKey(lambda x,y:x+y) \\ # 相同key值 相加\n",
    "                    .collect()"
   ]
  },
  {
   "cell_type": "code",
   "execution_count": 9,
   "id": "a6ad35d1",
   "metadata": {},
   "outputs": [
    {
     "data": {
      "text/plain": [
       "[('456', 2),\n",
       " ('11344', 1),\n",
       " ('b', 1),\n",
       " ('1234', 2),\n",
       " ('c', 1),\n",
       " ('4123', 1),\n",
       " ('5435', 1),\n",
       " ('5345', 1),\n",
       " ('d', 1),\n",
       " ('113', 2),\n",
       " ('143', 1),\n",
       " ('446', 2),\n",
       " ('14', 2),\n",
       " ('a', 1),\n",
       " ('123', 8),\n",
       " ('789', 4),\n",
       " ('2142', 4),\n",
       " ('124', 1),\n",
       " ('1231', 1),\n",
       " ('e', 1),\n",
       " ('f', 1),\n",
       " ('1113', 1),\n",
       " ('323', 1)]"
      ]
     },
     "execution_count": 9,
     "metadata": {},
     "output_type": "execute_result"
    }
   ],
   "source": [
    "log_counts"
   ]
  },
  {
   "cell_type": "markdown",
   "id": "5c49512c",
   "metadata": {},
   "source": [
    "### MapValues 練習：\n",
    "包含123數值有哪些，每個數量都乘2再加總"
   ]
  },
  {
   "cell_type": "code",
   "execution_count": 4,
   "id": "8a2dc023",
   "metadata": {},
   "outputs": [],
   "source": [
    "double_123 = logFile.flatMap(lambda x:x.split(',')) \\\n",
    "                    .filter(lambda num: '123' in num) \\\n",
    "                    .map(lambda x:(x,1))\\\n",
    "                    .mapValues(lambda x:x*2) \\\n",
    "                    .reduceByKey(lambda x,y:x+y) \\\n",
    "                    .collect()\n"
   ]
  },
  {
   "cell_type": "code",
   "execution_count": 5,
   "id": "2d5bd0f3",
   "metadata": {},
   "outputs": [
    {
     "data": {
      "text/plain": [
       "[('1234', 4), ('4123', 2), ('123', 16), ('1231', 2)]"
      ]
     },
     "execution_count": 5,
     "metadata": {},
     "output_type": "execute_result"
    }
   ],
   "source": [
    "double_123"
   ]
  },
  {
   "cell_type": "code",
   "execution_count": null,
   "id": "95f18608",
   "metadata": {},
   "outputs": [],
   "source": []
  }
 ],
 "metadata": {
  "kernelspec": {
   "display_name": "Python 3",
   "language": "python",
   "name": "python3"
  },
  "language_info": {
   "codemirror_mode": {
    "name": "ipython",
    "version": 3
   },
   "file_extension": ".py",
   "mimetype": "text/x-python",
   "name": "python",
   "nbconvert_exporter": "python",
   "pygments_lexer": "ipython3",
   "version": "3.8.8"
  }
 },
 "nbformat": 4,
 "nbformat_minor": 5
}
