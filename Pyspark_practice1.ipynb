{
 "cells": [
  {
   "cell_type": "markdown",
   "id": "4204af23",
   "metadata": {},
   "source": [
    "### 上傳至dfs(50070) -> test.txt\n",
    "a,123,456,789,11344,2142,123<br>\n",
    "b,1234,124,1234,123,123<br>\n",
    "c,123,4123,5435,1231,5345<br>\n",
    "d,123,456,789,113,2142,143<br>\n",
    "e,123,446,789,14,2142,113<br>\n",
    "f,123,446,789,14,2142,1113,323<br>\n"
   ]
  },
  {
   "cell_type": "code",
   "execution_count": 9,
   "id": "08efc85f",
   "metadata": {},
   "outputs": [],
   "source": [
    "logFile = sc.textFile(\"hdfs://nick/user/nick/practice\")"
   ]
  },
  {
   "cell_type": "markdown",
   "id": "366a4e29",
   "metadata": {},
   "source": [
    "### 找出測試資料所有的英文字母"
   ]
  },
  {
   "cell_type": "code",
   "execution_count": 13,
   "id": "9b7962b7",
   "metadata": {},
   "outputs": [],
   "source": [
    "alph = logFile.map(lambda x:x.split(',')[0]).collect()"
   ]
  },
  {
   "cell_type": "code",
   "execution_count": 14,
   "id": "d32be00f",
   "metadata": {
    "scrolled": false
   },
   "outputs": [
    {
     "name": "stdout",
     "output_type": "stream",
     "text": [
      "a\n",
      "b\n",
      "c\n",
      "d\n",
      "e\n",
      "f\n"
     ]
    }
   ],
   "source": [
    "for i in alph:\n",
    "    print(i)"
   ]
  },
  {
   "cell_type": "markdown",
   "id": "7cc81ab2",
   "metadata": {},
   "source": [
    "### flatmap練習\n",
    "以\",\"切割資料"
   ]
  },
  {
   "cell_type": "code",
   "execution_count": 24,
   "id": "5c2c10b6",
   "metadata": {},
   "outputs": [],
   "source": [
    "log = logFile.flatMap(lambda x:x.split(',')).collect()"
   ]
  },
  {
   "cell_type": "code",
   "execution_count": 25,
   "id": "e523ad88",
   "metadata": {
    "scrolled": true
   },
   "outputs": [
    {
     "name": "stdout",
     "output_type": "stream",
     "text": [
      "a\n",
      "123\n",
      "456\n",
      "789\n",
      "11344\n",
      "2142\n",
      "123\n",
      "b\n",
      "1234\n",
      "124\n",
      "1234\n",
      "123\n",
      "123\n",
      "c\n",
      "123\n",
      "4123\n",
      "5435\n",
      "1231\n",
      "5345\n",
      "d\n",
      "123\n",
      "456\n",
      "789\n",
      "113\n",
      "2142\n",
      "143\n",
      "e\n",
      "123\n",
      "446\n",
      "789\n",
      "14\n",
      "2142\n",
      "113\n",
      "f\n",
      "123\n",
      "446\n",
      "789\n",
      "14\n",
      "2142\n",
      "1113\n",
      "323\n"
     ]
    }
   ],
   "source": [
    "for i in log:\n",
    "    print(i)"
   ]
  },
  {
   "cell_type": "markdown",
   "id": "a0bd30b5",
   "metadata": {},
   "source": [
    "### filter練習\n",
    "包含123與456的資料"
   ]
  },
  {
   "cell_type": "code",
   "execution_count": 32,
   "id": "601a5879",
   "metadata": {},
   "outputs": [],
   "source": [
    "spec_num = logFile.flatMap(lambda x:x.split(','))\\\n",
    "                    .filter(lambda num: \"123\" in num or \"456\" in num)\\\n",
    "                    .collect()"
   ]
  },
  {
   "cell_type": "code",
   "execution_count": 34,
   "id": "41cdccf2",
   "metadata": {
    "scrolled": false
   },
   "outputs": [
    {
     "name": "stdout",
     "output_type": "stream",
     "text": [
      "123\n",
      "456\n",
      "123\n",
      "1234\n",
      "1234\n",
      "123\n",
      "123\n",
      "123\n",
      "4123\n",
      "1231\n",
      "123\n",
      "456\n",
      "123\n",
      "123\n"
     ]
    }
   ],
   "source": [
    "for i in spec_num:\n",
    "    print(i)"
   ]
  },
  {
   "cell_type": "markdown",
   "id": "47ec8563",
   "metadata": {},
   "source": [
    "### mapToPair 練習\n",
    "換成(str,1)"
   ]
  },
  {
   "cell_type": "code",
   "execution_count": 37,
   "id": "e2716f2e",
   "metadata": {},
   "outputs": [],
   "source": [
    "log= logFile.flatMap(lambda x:x.split(','))"
   ]
  },
  {
   "cell_type": "code",
   "execution_count": 38,
   "id": "b5c74100",
   "metadata": {},
   "outputs": [],
   "source": [
    "log_count = log.map(lambda x:(x,1)).collect()"
   ]
  },
  {
   "cell_type": "code",
   "execution_count": 39,
   "id": "c9a6d4e5",
   "metadata": {
    "scrolled": true
   },
   "outputs": [
    {
     "name": "stdout",
     "output_type": "stream",
     "text": [
      "('a', 1)\n",
      "('123', 1)\n",
      "('456', 1)\n",
      "('789', 1)\n",
      "('11344', 1)\n",
      "('2142', 1)\n",
      "('123', 1)\n",
      "('b', 1)\n",
      "('1234', 1)\n",
      "('124', 1)\n",
      "('1234', 1)\n",
      "('123', 1)\n",
      "('123', 1)\n",
      "('c', 1)\n",
      "('123', 1)\n",
      "('4123', 1)\n",
      "('5435', 1)\n",
      "('1231', 1)\n",
      "('5345', 1)\n",
      "('d', 1)\n",
      "('123', 1)\n",
      "('456', 1)\n",
      "('789', 1)\n",
      "('113', 1)\n",
      "('2142', 1)\n",
      "('143', 1)\n",
      "('e', 1)\n",
      "('123', 1)\n",
      "('446', 1)\n",
      "('789', 1)\n",
      "('14', 1)\n",
      "('2142', 1)\n",
      "('113', 1)\n",
      "('f', 1)\n",
      "('123', 1)\n",
      "('446', 1)\n",
      "('789', 1)\n",
      "('14', 1)\n",
      "('2142', 1)\n",
      "('1113', 1)\n",
      "('323', 1)\n"
     ]
    }
   ],
   "source": [
    "for i in log_count:\n",
    "    print(i)"
   ]
  },
  {
   "cell_type": "markdown",
   "id": "9b38e483",
   "metadata": {},
   "source": [
    "### flatMapToPair 練習\n",
    "轉換成(字母,所有後面數字的sum)<br>\n",
    "結果如下：<br>\n",
    "(a,14977)<br>\n",
    "(b,2838)<br>\n",
    "(c,16257)<br>\n",
    "(d,3766)<br>\n",
    "(e,3627)<br>\n",
    "(f,4950)<br>\n",
    "\n",
    "…"
   ]
  },
  {
   "cell_type": "code",
   "execution_count": null,
   "id": "6181810e",
   "metadata": {},
   "outputs": [],
   "source": []
  }
 ],
 "metadata": {
  "kernelspec": {
   "display_name": "Python 3",
   "language": "python",
   "name": "python3"
  },
  "language_info": {
   "codemirror_mode": {
    "name": "ipython",
    "version": 3
   },
   "file_extension": ".py",
   "mimetype": "text/x-python",
   "name": "python",
   "nbconvert_exporter": "python",
   "pygments_lexer": "ipython3",
   "version": "3.8.8"
  }
 },
 "nbformat": 4,
 "nbformat_minor": 5
}
